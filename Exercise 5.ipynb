{
 "cells": [
  {
   "cell_type": "markdown",
   "metadata": {},
   "source": [
    "# Exercises 5 - Marja Satukangas"
   ]
  },
  {
   "cell_type": "code",
   "execution_count": 1,
   "metadata": {},
   "outputs": [],
   "source": [
    "import numpy as np\n",
    "import matplotlib.pyplot as plt\n",
    "from tensorflow import keras\n",
    "from sklearn.preprocessing import StandardScaler\n",
    "from sklearn.model_selection import train_test_split\n",
    "from sklearn.utils import shuffle"
   ]
  },
  {
   "cell_type": "markdown",
   "metadata": {},
   "source": [
    "## Exercise 5a: Fashion MNIST (5p)\n",
    "\n",
    "Create a deep convolutional network model for classifying Fashion MNIST data (https://keras.io/api/datasets/fashion_mnist/). Take care to manage possible overfitting. Analyse classification performance by using confusion matrix. Compare the accuracy of your model with standard MNIST. Are there differences? Why?"
   ]
  },
  {
   "cell_type": "code",
   "execution_count": 8,
   "metadata": {},
   "outputs": [],
   "source": [
    "from tensorflow.keras.datasets import fashion_mnist\n",
    "\n",
    "(x_train, y_train), (x_val, y_val) = fashion_mnist.load_data()\n",
    "\n",
    "x_train = x_train.reshape(-1,28,28,1).astype('float32') / 255.0\n",
    "x_val = x_val.reshape(-1,28,28,1).astype('float32') / 255.0\n",
    "\n",
    "y_train = keras.utils.to_categorical(y_train)\n",
    "y_val = keras.utils.to_categorical(y_val)"
   ]
  },
  {
   "cell_type": "code",
   "execution_count": 46,
   "metadata": {},
   "outputs": [
    {
     "name": "stdout",
     "output_type": "stream",
     "text": [
      "Model: \"sequential_19\"\n",
      "_________________________________________________________________\n",
      "Layer (type)                 Output Shape              Param #   \n",
      "=================================================================\n",
      "conv2d_49 (Conv2D)           (None, 28, 28, 32)        320       \n",
      "_________________________________________________________________\n",
      "dropout_14 (Dropout)         (None, 28, 28, 32)        0         \n",
      "_________________________________________________________________\n",
      "conv2d_50 (Conv2D)           (None, 26, 26, 64)        18496     \n",
      "_________________________________________________________________\n",
      "max_pooling2d_36 (MaxPooling (None, 13, 13, 64)        0         \n",
      "_________________________________________________________________\n",
      "dropout_15 (Dropout)         (None, 13, 13, 64)        0         \n",
      "_________________________________________________________________\n",
      "conv2d_51 (Conv2D)           (None, 11, 11, 64)        36928     \n",
      "_________________________________________________________________\n",
      "max_pooling2d_37 (MaxPooling (None, 5, 5, 64)          0         \n",
      "_________________________________________________________________\n",
      "dropout_16 (Dropout)         (None, 5, 5, 64)          0         \n",
      "_________________________________________________________________\n",
      "flatten_8 (Flatten)          (None, 1600)              0         \n",
      "_________________________________________________________________\n",
      "dense_18 (Dense)             (None, 100)               160100    \n",
      "_________________________________________________________________\n",
      "dense_19 (Dense)             (None, 10)                1010      \n",
      "=================================================================\n",
      "Total params: 216,854\n",
      "Trainable params: 216,854\n",
      "Non-trainable params: 0\n",
      "_________________________________________________________________\n"
     ]
    }
   ],
   "source": [
    "from tensorflow.keras.layers import Conv2D, SeparableConv2D, MaxPooling2D, Dense, Flatten, Dropout, BatchNormalization, Activation\n",
    "from tensorflow.keras import regularizers \n",
    "\n",
    "model = keras.models.Sequential()\n",
    "\n",
    "model.add(Conv2D(32, (3, 3), padding='same', activation='relu', input_shape=(28, 28, 1)))\n",
    "model.add(Dropout(0.2))\n",
    "\n",
    "model.add(Conv2D(64, (3, 3), activation='relu'))\n",
    "model.add(MaxPooling2D((2, 2)))\n",
    "model.add(Dropout(0.2))\n",
    "\n",
    "model.add(Conv2D(64, (3, 3), activation='relu'))\n",
    "model.add(MaxPooling2D((2, 2)))\n",
    "model.add(Dropout(0.2))\n",
    "          \n",
    "model.add(Flatten())\n",
    "model.add(Dense(100, activation='relu'))\n",
    "model.add(Dense(10, activation='softmax'))\n",
    "\n",
    "model.compile(optimizer='adam', loss='categorical_crossentropy', metrics=['acc'])\n",
    "\n",
    "model.summary()"
   ]
  },
  {
   "cell_type": "code",
   "execution_count": 47,
   "metadata": {},
   "outputs": [
    {
     "name": "stdout",
     "output_type": "stream",
     "text": [
      "Epoch 1/9\n",
      "469/469 [==============================] - 165s 353ms/step - loss: 0.5654 - acc: 0.7924 - val_loss: 0.3980 - val_acc: 0.8556\n",
      "Epoch 2/9\n",
      "469/469 [==============================] - 161s 344ms/step - loss: 0.3468 - acc: 0.8748 - val_loss: 0.3097 - val_acc: 0.8889\n",
      "Epoch 3/9\n",
      "469/469 [==============================] - 162s 345ms/step - loss: 0.2937 - acc: 0.8921 - val_loss: 0.2755 - val_acc: 0.9006\n",
      "Epoch 4/9\n",
      "469/469 [==============================] - 168s 358ms/step - loss: 0.2635 - acc: 0.9022 - val_loss: 0.2601 - val_acc: 0.9061\n",
      "Epoch 5/9\n",
      "469/469 [==============================] - 160s 340ms/step - loss: 0.2423 - acc: 0.9112 - val_loss: 0.2429 - val_acc: 0.9106\n",
      "Epoch 6/9\n",
      "469/469 [==============================] - 159s 339ms/step - loss: 0.2264 - acc: 0.9161 - val_loss: 0.2402 - val_acc: 0.9117\n",
      "Epoch 7/9\n",
      "469/469 [==============================] - 159s 339ms/step - loss: 0.2127 - acc: 0.9205 - val_loss: 0.2308 - val_acc: 0.9174\n",
      "Epoch 8/9\n",
      "469/469 [==============================] - 159s 339ms/step - loss: 0.2007 - acc: 0.9258 - val_loss: 0.2351 - val_acc: 0.9154\n",
      "Epoch 9/9\n",
      "469/469 [==============================] - 158s 337ms/step - loss: 0.1879 - acc: 0.9303 - val_loss: 0.2108 - val_acc: 0.9226\n"
     ]
    }
   ],
   "source": [
    "hist = model.fit(x_train, y_train, epochs=9, batch_size=128, validation_data=(x_val,y_val))"
   ]
  },
  {
   "cell_type": "code",
   "execution_count": 48,
   "metadata": {},
   "outputs": [
    {
     "data": {
      "image/png": "[encoded data removed]",
      "text/plain": [
       "<Figure size 432x288 with 1 Axes>"
      ]
     },
     "metadata": {
      "needs_background": "light"
     },
     "output_type": "display_data"
    }
   ],
   "source": [
    "acc = hist.history['acc']\n",
    "val_acc = hist.history['val_acc']\n",
    "loss = hist.history['loss']\n",
    "val_loss = hist.history['val_loss']\n",
    "\n",
    "plt.plot(acc, 'bo', label='Training acc')\n",
    "plt.plot(val_acc, 'b', label='Validation acc')\n",
    "plt.title('Training and validation accuracy')\n",
    "plt.legend()\n",
    "plt.show()\n",
    "\n",
    "plt.show()"
   ]
  },
  {
   "cell_type": "code",
   "execution_count": 49,
   "metadata": {},
   "outputs": [],
   "source": [
    "Y_pred = np.argmax(model.predict(x_val), axis=1)"
   ]
  },
  {
   "cell_type": "code",
   "execution_count": 50,
   "metadata": {},
   "outputs": [],
   "source": [
    "y_val_cat=np.argmax((y_val), axis=1)"
   ]
  },
  {
   "cell_type": "code",
   "execution_count": 51,
   "metadata": {},
   "outputs": [
    {
     "name": "stdout",
     "output_type": "stream",
     "text": [
      "Confusion matrix:\n",
      " [[861   0  26  14   2   1  89   0   7   0]\n",
      " [  3 979   1  10   2   0   2   0   3   0]\n",
      " [ 16   0 902   9  36   0  34   0   3   0]\n",
      " [ 11   3  12 923  25   0  24   0   2   0]\n",
      " [  0   0  32  19 892   0  57   0   0   0]\n",
      " [  0   0   0   0   0 984   0  11   0   5]\n",
      " [ 88   0  59  22  62   0 763   0   6   0]\n",
      " [  0   0   0   0   0  10   0 956   0  34]\n",
      " [  2   0   1   4   0   1   2   1 989   0]\n",
      " [  1   0   0   0   0   4   0  18   0 977]]\n"
     ]
    }
   ],
   "source": [
    "from sklearn.metrics import confusion_matrix\n",
    "\n",
    "cm = confusion_matrix(y_val_cat, Y_pred)\n",
    "print(\"Confusion matrix:\\n\",cm)"
   ]
  },
  {
   "cell_type": "markdown",
   "metadata": {},
   "source": [
    "## Evaluation\n",
    "\n",
    "Compared to standard mnist, this model got lower accuracy score. This is probably because this task is more complicated and there is more variance between samples of same category. Training the model was quite time consuming so it was not possible to experiment very many different models. \n",
    "\n",
    "Confusion matrix shows that model performs quite well and not many samples are pointed to a wrong category. Category 0 (t-shirt) and 6 (shirt) are mixed up quite often. From the confusion matrix we can also see that different kinds of shoes (sandal, sneaker, ankle boots) are more often mixed up together than that they are predicted to be some other category of fashion."
   ]
  }
 ],
 "metadata": {
  "kernelspec": {
   "display_name": "Python 3",
   "language": "python",
   "name": "python3"
  },
  "language_info": {
   "codemirror_mode": {
    "name": "ipython",
    "version": 3
   },
   "file_extension": ".py",
   "mimetype": "text/x-python",
   "name": "python",
   "nbconvert_exporter": "python",
   "pygments_lexer": "ipython3",
   "version": "3.8.5"
  }
 },
 "nbformat": 4,
 "nbformat_minor": 4
}
