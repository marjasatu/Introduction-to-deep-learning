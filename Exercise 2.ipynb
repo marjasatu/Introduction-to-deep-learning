{
 "cells": [
  {
   "cell_type": "markdown",
   "id": "surrounded-programmer",
   "metadata": {},
   "source": [
    "## TX00DH43exercises2\n",
    "Marja Satukangas"
   ]
  },
  {
   "cell_type": "code",
   "execution_count": 1,
   "id": "historical-siemens",
   "metadata": {},
   "outputs": [],
   "source": [
    "import numpy as np\n",
    "import matplotlib.pyplot as plt\n",
    "import math\n",
    "import tensorflow as tf\n",
    "from tensorflow import keras\n",
    "from tensorflow.keras import layers"
   ]
  },
  {
   "cell_type": "markdown",
   "id": "latest-bacon",
   "metadata": {},
   "source": [
    "## 1 Forward pass for two-layer ANN with Keras (3p)\n",
    "\n",
    "Following the example code, implement forward pass for the network described below with Keras. Use weights (1,3,5), (2,4,6) and bias (-1,-2) for the two first layer neurons. For second layer, use weights (-0.1, 0.1) and activation function sigmoid."
   ]
  },
  {
   "cell_type": "code",
   "execution_count": 2,
   "id": "renewable-running",
   "metadata": {},
   "outputs": [
    {
     "name": "stdout",
     "output_type": "stream",
     "text": [
      "Result of forward pass:\n",
      "tf.Tensor([[0.549834]], shape=(1, 1), dtype=float32)\n"
     ]
    }
   ],
   "source": [
    "model = keras.Sequential()\n",
    "model.add(layers.Dense(2, input_shape=(3,), use_bias=True))\n",
    "model.add(layers.Dense(1, use_bias=False, activation='sigmoid'))\n",
    "\n",
    "W0 = model.layers[0].get_weights()\n",
    "W1 = model.layers[1].get_weights()\n",
    "\n",
    "W0[0][0,0] = 1\n",
    "W0[0][1,0] = 3\n",
    "W0[0][2,0] = 5\n",
    "\n",
    "W0[0][0,1] = 2\n",
    "W0[0][1,1] = 4\n",
    "W0[0][2,1] = 6\n",
    "\n",
    "W0[1][0] = -1\n",
    "W0[1][1] = -2\n",
    "\n",
    "W1[0][0,0] = -0.1\n",
    "W1[0][1,0] = 0.1\n",
    "\n",
    "model.layers[0].set_weights(W0)\n",
    "model.layers[1].set_weights(W1)\n",
    "\n",
    "input_sample = np.array(([2,0,1],), dtype=np.float32)\n",
    "\n",
    "print(\"Result of forward pass:\")\n",
    "print(model.call(tf.convert_to_tensor(input_sample)))\n"
   ]
  },
  {
   "cell_type": "markdown",
   "id": "incident-colonial",
   "metadata": {},
   "source": [
    "## 2 Forward pass for two-layer ANN with Numpy (2p)\n",
    "\n",
    "Following the example code, implement forward pass for the exercise 1 case with numpy."
   ]
  },
  {
   "cell_type": "code",
   "execution_count": 3,
   "id": "fluid-walter",
   "metadata": {},
   "outputs": [
    {
     "name": "stdout",
     "output_type": "stream",
     "text": [
      "[[6.]\n",
      " [8.]]\n",
      "[[0.2]]\n",
      "[[0.549834]]\n"
     ]
    }
   ],
   "source": [
    "w0 = np.array([[-1,-2], [1,2], [3,4], [5,6]]).T\n",
    "w1 = np.array([[-0.1], [0.1]]).T\n",
    "\n",
    "input_sample = np.array(([1,2,0,1],), dtype=np.float32).T\n",
    "\n",
    "z0 = np.dot(w0, input_sample)\n",
    "y0 = z0\n",
    "print(y0)\n",
    "\n",
    "z1 = np.dot(w1, y0)\n",
    "print(z1)\n",
    "y1 = 1/(1 + np.exp(-z1))\n",
    "print(y1)\n"
   ]
  },
  {
   "cell_type": "code",
   "execution_count": 4,
   "id": "dress-princess",
   "metadata": {},
   "outputs": [
    {
     "data": {
      "image/png": "[encoded data removed]",
      "text/plain": [
       "<Figure size 432x288 with 1 Axes>"
      ]
     },
     "metadata": {
      "needs_background": "light"
     },
     "output_type": "display_data"
    }
   ],
   "source": [
    "# Create data set\n",
    "\n",
    "N = 400\n",
    "x = np.linspace(0,1,N)\n",
    "y = 0.4 + 0.2 * np.log(x+0.1) * np.sin(8 * 3.14 * x)\n",
    "\n",
    "plt.plot(x,y)\n",
    "plt.show()"
   ]
  },
  {
   "cell_type": "markdown",
   "id": "killing-italic",
   "metadata": {},
   "source": [
    "## 3 Function approximation\n",
    "\n",
    "Create an ANN model to fit the data. This time there is no need to be concerned about validatition, the result will be plotted against the function to see how the model performs.\n",
    "\n",
    "Hints:\n",
    "* you might consider using tanh/sigmoid activation function in hidden layers of the model\n",
    "* think about the value range of the function - what might be a good activation function in the output layer?\n",
    "* less that 10 layers should give a complex enough model\n",
    "* experiment with layer width(s) - way way less that 1000 is enough\n",
    "* use optimizer='adam' (we'll talk more about optimizers later)\n",
    "* some tens or even hundreds of epochs might be needed to get a well-performing model\n",
    "\n",
    "Make a plot of data and model prodictions."
   ]
  },
  {
   "cell_type": "code",
   "execution_count": 5,
   "id": "celtic-hometown",
   "metadata": {},
   "outputs": [
    {
     "name": "stdout",
     "output_type": "stream",
     "text": [
      "Model: \"sequential_1\"\n",
      "_________________________________________________________________\n",
      "Layer (type)                 Output Shape              Param #   \n",
      "=================================================================\n",
      "dense_2 (Dense)              (None, 640)               1280      \n",
      "_________________________________________________________________\n",
      "dense_3 (Dense)              (None, 320)               205120    \n",
      "_________________________________________________________________\n",
      "dense_4 (Dense)              (None, 128)               41088     \n",
      "_________________________________________________________________\n",
      "dense_5 (Dense)              (None, 64)                8256      \n",
      "_________________________________________________________________\n",
      "dense_6 (Dense)              (None, 32)                2080      \n",
      "_________________________________________________________________\n",
      "dense_7 (Dense)              (None, 1)                 33        \n",
      "=================================================================\n",
      "Total params: 257,857\n",
      "Trainable params: 257,857\n",
      "Non-trainable params: 0\n",
      "_________________________________________________________________\n"
     ]
    }
   ],
   "source": [
    "model = keras.models.Sequential()\n",
    "model.add(layers.Dense(640, input_shape=(1, )))\n",
    "model.add(layers.Dense(320, activation='sigmoid'))\n",
    "model.add(layers.Dense(128, activation='sigmoid'))\n",
    "model.add(layers.Dense(64, activation='sigmoid'))\n",
    "model.add(layers.Dense(32, activation='sigmoid'))\n",
    "model.add(layers.Dense(1, activation='sigmoid'))\n",
    "\n",
    "model.compile(loss='mse',    \n",
    "              optimizer='adam')\n",
    "\n",
    "model.summary()\n",
    "\n",
    "history = model.fit(x, y, epochs=200, verbose=0)\n"
   ]
  },
  {
   "cell_type": "code",
   "execution_count": 6,
   "id": "theoretical-amount",
   "metadata": {},
   "outputs": [
    {
     "data": {
      "image/png": "[encoded data removed]",
      "text/plain": [
       "<Figure size 432x288 with 1 Axes>"
      ]
     },
     "metadata": {
      "needs_background": "light"
     },
     "output_type": "display_data"
    }
   ],
   "source": [
    "pred = model.predict(x)\n",
    "\n",
    "plt.plot(x,y, label='function')\n",
    "plt.plot(x,pred, label='model')\n",
    "plt.legend()\n",
    "plt.show()"
   ]
  },
  {
   "cell_type": "markdown",
   "id": "religious-maldives",
   "metadata": {},
   "source": [
    "## 4 Boston housing with deep net\n",
    "\n",
    "Load and perprocess Boston housing data and create a deep model (< 5 layers) to predict house prices. You should get better predictions than with the single layer model in examples notebook. Plot training and validation accuracies per epoch."
   ]
  },
  {
   "cell_type": "code",
   "execution_count": 7,
   "id": "painted-palmer",
   "metadata": {},
   "outputs": [
    {
     "name": "stdout",
     "output_type": "stream",
     "text": [
      "Mean x_train values after standardisation with StandardScaler:\n",
      "2.6016254395785847e-15\n",
      "Std x_train values after standardisation with StandardScaler:\n",
      "0.9999999999999993\n"
     ]
    }
   ],
   "source": [
    "(x_train, y_train), (x_test, y_test) = keras.datasets.boston_housing.load_data()\n",
    "\n",
    "from sklearn.preprocessing import StandardScaler\n",
    "scaler = StandardScaler().fit(x_train)\n",
    "x_train_ss = scaler.transform(x_train)\n",
    "x_test_ss = scaler.transform(x_test)\n",
    "\n",
    "print(\"Mean x_train values after standardisation with StandardScaler:\")\n",
    "print(np.mean(x_train_ss))\n",
    "print(\"Std x_train values after standardisation with StandardScaler:\")\n",
    "print(np.std(x_train_ss))"
   ]
  },
  {
   "cell_type": "code",
   "execution_count": 8,
   "id": "overall-poland",
   "metadata": {},
   "outputs": [
    {
     "name": "stdout",
     "output_type": "stream",
     "text": [
      "Model: \"sequential_2\"\n",
      "_________________________________________________________________\n",
      "Layer (type)                 Output Shape              Param #   \n",
      "=================================================================\n",
      "dense_8 (Dense)              (None, 64)                896       \n",
      "_________________________________________________________________\n",
      "dense_9 (Dense)              (None, 32)                2080      \n",
      "_________________________________________________________________\n",
      "dense_10 (Dense)             (None, 1)                 33        \n",
      "=================================================================\n",
      "Total params: 3,009\n",
      "Trainable params: 3,009\n",
      "Non-trainable params: 0\n",
      "_________________________________________________________________\n"
     ]
    }
   ],
   "source": [
    "model2 = keras.models.Sequential()\n",
    "\n",
    "model2.add(layers.Dense(64, input_shape=(13, )))\n",
    "model2.add(layers.Dense(32, activation='relu'))\n",
    "model2.add(layers.Dense(1, activation='relu'))\n",
    "\n",
    "model2.compile(loss='mse',    \n",
    "              optimizer='adam')\n",
    "\n",
    "model2.summary()\n"
   ]
  },
  {
   "cell_type": "code",
   "execution_count": 9,
   "id": "latest-border",
   "metadata": {},
   "outputs": [],
   "source": [
    "history = model2.fit(x_train_ss, y_train, epochs=70, validation_data=(x_test_ss, y_test), verbose=0)"
   ]
  },
  {
   "cell_type": "code",
   "execution_count": 10,
   "id": "emerging-victorian",
   "metadata": {},
   "outputs": [
    {
     "data": {
      "text/plain": [
       "dict_keys(['loss', 'val_loss'])"
      ]
     },
     "execution_count": 10,
     "metadata": {},
     "output_type": "execute_result"
    }
   ],
   "source": [
    "history.history.keys()"
   ]
  },
  {
   "cell_type": "code",
   "execution_count": 11,
   "id": "secret-parameter",
   "metadata": {},
   "outputs": [
    {
     "data": {
      "image/png": "[encoded data removed]",
      "text/plain": [
       "<Figure size 432x288 with 1 Axes>"
      ]
     },
     "metadata": {
      "needs_background": "light"
     },
     "output_type": "display_data"
    }
   ],
   "source": [
    "plt.plot(history.history['loss'], label='train')\n",
    "plt.plot(history.history['val_loss'], label='validation')\n",
    "plt.show()"
   ]
  }
 ],
 "metadata": {
  "kernelspec": {
   "display_name": "Python 3",
   "language": "python",
   "name": "python3"
  },
  "language_info": {
   "codemirror_mode": {
    "name": "ipython",
    "version": 3
   },
   "file_extension": ".py",
   "mimetype": "text/x-python",
   "name": "python",
   "nbconvert_exporter": "python",
   "pygments_lexer": "ipython3",
   "version": "3.8.5"
  }
 },
 "nbformat": 4,
 "nbformat_minor": 5
}
