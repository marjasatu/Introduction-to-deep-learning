{
 "cells": [
  {
   "cell_type": "markdown",
   "metadata": {},
   "source": [
    "# Exercise 6\n",
    "\n",
    "Marja Satukangas"
   ]
  },
  {
   "cell_type": "code",
   "execution_count": 1,
   "metadata": {},
   "outputs": [],
   "source": [
    "import numpy as np\n",
    "import matplotlib.pyplot as plt\n",
    "from tensorflow import keras\n",
    "from sklearn.preprocessing import StandardScaler\n",
    "from sklearn.model_selection import train_test_split\n",
    "import tensorflow as tf\n",
    "from sklearn.metrics import r2_score\n",
    "from tensorflow import keras\n",
    "from tensorflow.keras import layers, models\n"
   ]
  },
  {
   "cell_type": "markdown",
   "metadata": {},
   "source": [
    "## Exercise 6.1: Convnet encoder-decoder for MNIST (3p)\n",
    "\n",
    "Change the fully connected autoencoder in tapaaminen6examples into a convnet-based one, ie. use Conv2D and MaxPooling2D layers in encoder and Conv2D and UpSampling2D layers in decoder. Compare the results (visually) to fully connected autoencoder results and write briefly your findings."
   ]
  },
  {
   "cell_type": "code",
   "execution_count": 2,
   "metadata": {},
   "outputs": [],
   "source": [
    "from tensorflow.keras.datasets import mnist\n",
    "\n",
    "(x_train, y_train), (x_test, y_test) = mnist.load_data()\n",
    "\n",
    "x_train = x_train.astype('float32') / 255.\n",
    "x_test = x_test.astype('float32') / 255.\n",
    "x_train = np.reshape(x_train, (len(x_train), 28, 28, 1))\n",
    "x_test = np.reshape(x_test, (len(x_test), 28, 28, 1))"
   ]
  },
  {
   "cell_type": "code",
   "execution_count": 3,
   "metadata": {},
   "outputs": [
    {
     "name": "stdout",
     "output_type": "stream",
     "text": [
      "Model: \"functional_1\"\n",
      "_________________________________________________________________\n",
      "Layer (type)                 Output Shape              Param #   \n",
      "=================================================================\n",
      "input_1 (InputLayer)         [(None, 28, 28, 1)]       0         \n",
      "_________________________________________________________________\n",
      "conv2d (Conv2D)              (None, 28, 28, 16)        160       \n",
      "_________________________________________________________________\n",
      "max_pooling2d (MaxPooling2D) (None, 14, 14, 16)        0         \n",
      "_________________________________________________________________\n",
      "conv2d_1 (Conv2D)            (None, 14, 14, 8)         1160      \n",
      "_________________________________________________________________\n",
      "max_pooling2d_1 (MaxPooling2 (None, 7, 7, 8)           0         \n",
      "_________________________________________________________________\n",
      "conv2d_2 (Conv2D)            (None, 7, 7, 8)           584       \n",
      "_________________________________________________________________\n",
      "max_pooling2d_2 (MaxPooling2 (None, 4, 4, 8)           0         \n",
      "_________________________________________________________________\n",
      "conv2d_3 (Conv2D)            (None, 4, 4, 8)           584       \n",
      "_________________________________________________________________\n",
      "up_sampling2d (UpSampling2D) (None, 8, 8, 8)           0         \n",
      "_________________________________________________________________\n",
      "conv2d_4 (Conv2D)            (None, 8, 8, 8)           584       \n",
      "_________________________________________________________________\n",
      "up_sampling2d_1 (UpSampling2 (None, 16, 16, 8)         0         \n",
      "_________________________________________________________________\n",
      "conv2d_5 (Conv2D)            (None, 14, 14, 16)        1168      \n",
      "_________________________________________________________________\n",
      "up_sampling2d_2 (UpSampling2 (None, 28, 28, 16)        0         \n",
      "_________________________________________________________________\n",
      "conv2d_6 (Conv2D)            (None, 28, 28, 1)         145       \n",
      "=================================================================\n",
      "Total params: 4,385\n",
      "Trainable params: 4,385\n",
      "Non-trainable params: 0\n",
      "_________________________________________________________________\n"
     ]
    }
   ],
   "source": [
    "input_img = keras.Input(shape=(28, 28, 1))\n",
    "\n",
    "x = layers.Conv2D(16, (3, 3), activation='relu', padding='same')(input_img)\n",
    "x = layers.MaxPooling2D((2, 2), padding='same')(x)\n",
    "x = layers.Conv2D(8, (3, 3), activation='relu', padding='same')(x)\n",
    "x = layers.MaxPooling2D((2, 2), padding='same')(x)\n",
    "x = layers.Conv2D(8, (3, 3), activation='relu', padding='same')(x)\n",
    "encoder = layers.MaxPooling2D((2, 2), padding='same')(x)\n",
    "\n",
    "\n",
    "x = layers.Conv2D(8, (3, 3), activation='relu', padding='same')(encoder)\n",
    "x = layers.UpSampling2D((2, 2))(x)\n",
    "x = layers.Conv2D(8, (3, 3), activation='relu', padding='same')(x)\n",
    "x = layers.UpSampling2D((2, 2))(x)\n",
    "x = layers.Conv2D(16, (3, 3), activation='relu')(x)\n",
    "x = layers.UpSampling2D((2, 2))(x)\n",
    "decoder = layers.Conv2D(1, (3, 3), activation='sigmoid', padding='same')(x)\n",
    "\n",
    "encdec = keras.Model(input_img, decoder)\n",
    "encdec.compile(optimizer='adam', loss='binary_crossentropy')\n",
    "encdec.summary()"
   ]
  },
  {
   "cell_type": "code",
   "execution_count": 4,
   "metadata": {},
   "outputs": [
    {
     "name": "stdout",
     "output_type": "stream",
     "text": [
      "Epoch 1/5\n",
      "938/938 [==============================] - 74s 79ms/step - loss: 0.1756\n",
      "Epoch 2/5\n",
      "938/938 [==============================] - 76s 81ms/step - loss: 0.1236\n",
      "Epoch 3/5\n",
      "938/938 [==============================] - 77s 82ms/step - loss: 0.1143\n",
      "Epoch 4/5\n",
      "938/938 [==============================] - 71s 76ms/step - loss: 0.1092\n",
      "Epoch 5/5\n",
      "938/938 [==============================] - 71s 76ms/step - loss: 0.1060\n"
     ]
    }
   ],
   "source": [
    "hist = encdec.fit(x_train, x_train, epochs=5, batch_size=64)"
   ]
  },
  {
   "cell_type": "code",
   "execution_count": 5,
   "metadata": {},
   "outputs": [
    {
     "data": {
      "image/png": "[encoded data removed]",
      "text/plain": [
       "<Figure size 432x288 with 20 Axes>"
      ]
     },
     "metadata": {
      "needs_background": "light"
     },
     "output_type": "display_data"
    }
   ],
   "source": [
    "x_test_ed = encdec.predict(x_test)\n",
    "\n",
    "fig, ax = plt.subplots(5,4)\n",
    "ax = ax.flatten()\n",
    "\n",
    "for i in range(10):\n",
    "    im_idx = np.argwhere(y_test == i)\n",
    "    pick = np.random.choice(y_test)\n",
    "    plottable_image = np.reshape(x_test[im_idx][pick], (28, 28))\n",
    "    another_image = np.reshape(x_test_ed[im_idx][pick], (28, 28))\n",
    "    ax[i*2].imshow(plottable_image, cmap='gray_r')\n",
    "    ax[i*2+1].imshow(another_image, cmap='gray_r')\n"
   ]
  },
  {
   "cell_type": "markdown",
   "metadata": {},
   "source": [
    "## Findings\n",
    "\n",
    "Convnet autoencoder gives more precise result when decoded."
   ]
  },
  {
   "cell_type": "markdown",
   "metadata": {},
   "source": [
    "## Exercise 6.2: Imbd review sentiment analysis improvement (3p)\n",
    "\n",
    "Improve the sentiment analyser in session6examples. You might use different RNN layer (like LSTM), stack two layers, try to manage overfitting etc. Check the code examples in Keras documentation for how to handle for example LSTM layer."
   ]
  },
  {
   "cell_type": "code",
   "execution_count": 13,
   "metadata": {},
   "outputs": [],
   "source": [
    "from tensorflow.keras.datasets import imdb \n",
    "\n",
    "vocabulary_size = 15000\n",
    "max_seq_len = 150\n",
    "\n",
    "(x_train, y_train), (x_val, y_val) = imdb.load_data(num_words=vocabulary_size)"
   ]
  },
  {
   "cell_type": "code",
   "execution_count": 14,
   "metadata": {},
   "outputs": [
    {
     "name": "stdout",
     "output_type": "stream",
     "text": [
      "(25000,) (25000,) (25000,) (25000,)\n",
      "# just got out and cannot believe what a brilliant documentary this is rarely do you walk out of a movie theater in such awe and # lately movies have become so over hyped that the thrill of discovering something truly special and unique rarely happens # # did this to me when it first came out and this movie is doing to me now i didn't know a thing about this before going into it and what a surprise if you hear the concept you might get the feeling that this is one of those # movies about an amazing triumph covered with over the top music and trying to have us fully convinced of what a great story it is telling but then not letting us in # this is not that movie the people tell the story this does such a good job of capturing every moment of their involvement while we enter their world and feel every second with them there is so much beyond the climb that makes everything they go through so much more tense touching the void was also a great doc about mountain climbing and showing the intensity in an engaging way but this film is much more of a human story i just saw it today but i will go and say that this is one of the best documentaries i have ever seen\n"
     ]
    }
   ],
   "source": [
    "print(x_train.shape, y_train.shape, x_val.shape, y_val.shape)\n",
    "\n",
    "index_dict = imdb.get_word_index()\n",
    "word_dict = dict([(value, key) for (key, value) in index_dict.items()])\n",
    "\n",
    "# 0 - padding word, 1 - start word, 2 - out of vocabulary word (so do .get(i-3) from the reverse dictionary))\n",
    "print(\" \".join([word_dict.get(i-3, \"#\") for i in x_train[8]]))\n",
    "\n",
    "# join the train and val sets and split with 80/20 ratio\n",
    "data = np.concatenate((x_train, x_val), axis=0)\n",
    "targets = np.concatenate((y_train, y_val), axis=0)\n",
    "\n",
    "data_train, data_val, targets_train, targets_val = train_test_split(data, targets, test_size=0.2)"
   ]
  },
  {
   "cell_type": "code",
   "execution_count": 15,
   "metadata": {},
   "outputs": [
    {
     "name": "stdout",
     "output_type": "stream",
     "text": [
      "(10000, 150)\n"
     ]
    }
   ],
   "source": [
    "data_train = tf.keras.preprocessing.sequence.pad_sequences(data_train, maxlen=max_seq_len)\n",
    "data_val = tf.keras.preprocessing.sequence.pad_sequences(data_val, maxlen=max_seq_len)\n",
    "\n",
    "print(data_val.shape)"
   ]
  },
  {
   "cell_type": "code",
   "execution_count": 16,
   "metadata": {},
   "outputs": [
    {
     "name": "stdout",
     "output_type": "stream",
     "text": [
      "Model: \"sequential_2\"\n",
      "_________________________________________________________________\n",
      "Layer (type)                 Output Shape              Param #   \n",
      "=================================================================\n",
      "embedding_2 (Embedding)      (None, None, 16)          240000    \n",
      "_________________________________________________________________\n",
      "lstm_4 (LSTM)                (None, None, 16)          2112      \n",
      "_________________________________________________________________\n",
      "lstm_5 (LSTM)                (None, 16)                2112      \n",
      "_________________________________________________________________\n",
      "dense_2 (Dense)              (None, 1)                 17        \n",
      "=================================================================\n",
      "Total params: 244,241\n",
      "Trainable params: 244,241\n",
      "Non-trainable params: 0\n",
      "_________________________________________________________________\n"
     ]
    }
   ],
   "source": [
    "embedded_dimension = 16\n",
    "\n",
    "model = models.Sequential()\n",
    "model.add(layers.Embedding(vocabulary_size, embedded_dimension))\n",
    "model.add(layers.LSTM(16, dropout=0.3, return_sequences=True))\n",
    "model.add(layers.LSTM(16, dropout=0.3))\n",
    "model.add(layers.Dense(1, activation = 'sigmoid'))\n",
    "\n",
    "model.compile(optimizer = 'rmsprop', loss = 'binary_crossentropy', metrics = ['acc'])\n",
    "\n",
    "model.summary()"
   ]
  },
  {
   "cell_type": "code",
   "execution_count": 17,
   "metadata": {},
   "outputs": [
    {
     "name": "stdout",
     "output_type": "stream",
     "text": [
      "Epoch 1/5\n",
      "1250/1250 [==============================] - 85s 68ms/step - loss: 0.3897 - acc: 0.8208 - val_loss: 0.3277 - val_acc: 0.8758\n",
      "Epoch 2/5\n",
      "1250/1250 [==============================] - 84s 67ms/step - loss: 0.2719 - acc: 0.8909 - val_loss: 0.3248 - val_acc: 0.8671\n",
      "Epoch 3/5\n",
      "1250/1250 [==============================] - 84s 67ms/step - loss: 0.2467 - acc: 0.9024 - val_loss: 0.2708 - val_acc: 0.8885\n",
      "Epoch 4/5\n",
      "1250/1250 [==============================] - 86s 69ms/step - loss: 0.2341 - acc: 0.9071 - val_loss: 0.2913 - val_acc: 0.8731\n",
      "Epoch 5/5\n",
      "1250/1250 [==============================] - 85s 68ms/step - loss: 0.2264 - acc: 0.9114 - val_loss: 0.2628 - val_acc: 0.8916\n"
     ]
    }
   ],
   "source": [
    "hist = model.fit(data_train, targets_train, epochs=5, batch_size=32, validation_data=(data_val, targets_val))"
   ]
  },
  {
   "cell_type": "code",
   "execution_count": 18,
   "metadata": {},
   "outputs": [
    {
     "data": {
      "image/png": "[encoded data removed]",
      "text/plain": [
       "<Figure size 432x288 with 1 Axes>"
      ]
     },
     "metadata": {
      "needs_background": "light"
     },
     "output_type": "display_data"
    }
   ],
   "source": [
    "plt.plot(hist.history['acc'], 'o', label='Training accuracy')\n",
    "plt.plot(hist.history['val_acc'], label='Validation accuracy')\n",
    "plt.legend()\n",
    "plt.show()"
   ]
  },
  {
   "cell_type": "code",
   "execution_count": 19,
   "metadata": {},
   "outputs": [
    {
     "name": "stdout",
     "output_type": "stream",
     "text": [
      "[[0.08157307]] 0\n",
      "[[0.00988996]] 0\n",
      "[[0.9910021]] 1\n",
      "[[0.9888412]] 1\n"
     ]
    }
   ],
   "source": [
    "training=False\n",
    "print(model.predict(np.array([data_val[6,:]])), targets_val[6])\n",
    "print(model.predict(np.array([data_val[7,:]])), targets_val[7])\n",
    "print(model.predict(np.array([data_val[8,:]])), targets_val[8])\n",
    "print(model.predict(np.array([data_val[9,:]])), targets_val[9])"
   ]
  },
  {
   "cell_type": "code",
   "execution_count": 20,
   "metadata": {},
   "outputs": [],
   "source": [
    "def classify_review(text, model):\n",
    "    w2intdict = tf.keras.datasets.imdb.get_word_index()\n",
    "    seq = tf.keras.preprocessing.sequence.pad_sequences([[w2intdict[w] for w in text]], maxlen=max_seq_len)\n",
    "    print(\"score for\", text, \"is\", model.predict(seq))"
   ]
  },
  {
   "cell_type": "code",
   "execution_count": 21,
   "metadata": {},
   "outputs": [
    {
     "name": "stdout",
     "output_type": "stream",
     "text": [
      "score for ['the', 'movie', 'is', 'utterly', 'disappointing', 'disaster', 'perhaps', 'worst', 'ever'] is [[0.15694743]]\n",
      "score for ['the', 'movie', 'is', 'extremely', 'nice', 'and', 'entertaining', 'with', 'great', 'casting'] is [[0.5825728]]\n",
      "score for ['the', 'movie', 'is', 'best', 'possible', 'example', 'of', 'terrible', 'crap'] is [[0.30077064]]\n",
      "score for ['the', 'latest', 'movie', 'by', 'this', 'abysmal', 'director', 'is', 'terrible', 'crap'] is [[0.5183157]]\n"
     ]
    }
   ],
   "source": [
    "classify_review(['the', 'movie', 'is', 'utterly', 'disappointing', 'disaster', 'perhaps', 'worst', 'ever'], model)\n",
    "classify_review(['the', 'movie', 'is', 'extremely', 'nice', 'and', 'entertaining', 'with', 'great', 'casting'], model)\n",
    "classify_review(['the', 'movie', 'is', 'best', 'possible', 'example', 'of', 'terrible', 'crap'], model)\n",
    "classify_review(['the', 'latest', 'movie', 'by', 'this', 'abysmal', 'director', 'is', 'terrible', 'crap'], model)"
   ]
  },
  {
   "cell_type": "markdown",
   "metadata": {},
   "source": [
    "## Findings\n",
    "\n",
    "The model didn't really get better with LSTM. I experimented different embedded dimensions and model depths and widths, activations and optimizers but that didn't help.\n"
   ]
  }
 ],
 "metadata": {
  "kernelspec": {
   "display_name": "Python 3",
   "language": "python",
   "name": "python3"
  },
  "language_info": {
   "codemirror_mode": {
    "name": "ipython",
    "version": 3
   },
   "file_extension": ".py",
   "mimetype": "text/x-python",
   "name": "python",
   "nbconvert_exporter": "python",
   "pygments_lexer": "ipython3",
   "version": "3.8.5"
  }
 },
 "nbformat": 4,
 "nbformat_minor": 4
}
