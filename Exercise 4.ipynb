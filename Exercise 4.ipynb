{
 "cells": [
  {
   "cell_type": "markdown",
   "id": "separate-constraint",
   "metadata": {},
   "source": [
    "# Exercises 4 - Marja Satukangas"
   ]
  },
  {
   "cell_type": "code",
   "execution_count": 1,
   "id": "collected-vanilla",
   "metadata": {},
   "outputs": [],
   "source": [
    "import numpy as np\n",
    "import scipy\n",
    "import scipy.stats\n",
    "import scipy.signal\n",
    "import matplotlib.pyplot as plt\n",
    "import tensorflow as tf\n",
    "from tensorflow import keras\n",
    "from tensorflow.keras import layers\n",
    "from sklearn.preprocessing import StandardScaler\n",
    "from tensorflow.keras.layers import Dense, BatchNormalization"
   ]
  },
  {
   "cell_type": "markdown",
   "id": "covered-birthday",
   "metadata": {},
   "source": [
    "## MNIST with complex dense model\n",
    "\n",
    "Create a complex MNIST model with 5-10 dense layers and about 500k weights that overfits (follow accuracies during training). \n",
    "\n",
    "Add batch normalisation to the model and plot training and validation accuracies. What are your findings?\n",
    "\n",
    "(Give your models descriptive names to make it easier to do the comparisons)\n",
    "\n",
    "Add to the model a) regularisation, b) dropout layers and plot training and validation accuracies. Again, write a brief overview of your findings."
   ]
  },
  {
   "cell_type": "code",
   "execution_count": 2,
   "id": "active-market",
   "metadata": {},
   "outputs": [],
   "source": [
    "from tensorflow.keras.datasets import mnist\n",
    "\n",
    "(x_train, y_train), (x_val, y_val) = mnist.load_data()\n",
    "\n",
    "x_train = x_train.reshape(-1, 28 * 28).astype('float32') / 255.0\n",
    "x_val = x_val.reshape(-1, 28 * 28).astype('float32') / 255.0\n",
    "\n",
    "y_train_cat = keras.utils.to_categorical(y_train)\n",
    "y_val_cat = keras.utils.to_categorical(y_val)"
   ]
  },
  {
   "cell_type": "markdown",
   "id": "sound-liechtenstein",
   "metadata": {},
   "source": [
    "## Model 1 - overfitted 5 layer model"
   ]
  },
  {
   "cell_type": "code",
   "execution_count": 3,
   "id": "respected-embassy",
   "metadata": {},
   "outputs": [
    {
     "name": "stdout",
     "output_type": "stream",
     "text": [
      "Model: \"sequential\"\n",
      "_________________________________________________________________\n",
      "Layer (type)                 Output Shape              Param #   \n",
      "=================================================================\n",
      "dense (Dense)                (None, 512)               401920    \n",
      "_________________________________________________________________\n",
      "dense_1 (Dense)              (None, 128)               65664     \n",
      "_________________________________________________________________\n",
      "dense_2 (Dense)              (None, 128)               16512     \n",
      "_________________________________________________________________\n",
      "dense_3 (Dense)              (None, 128)               16512     \n",
      "_________________________________________________________________\n",
      "dense_4 (Dense)              (None, 64)                8256      \n",
      "_________________________________________________________________\n",
      "dense_5 (Dense)              (None, 10)                650       \n",
      "=================================================================\n",
      "Total params: 509,514\n",
      "Trainable params: 509,514\n",
      "Non-trainable params: 0\n",
      "_________________________________________________________________\n"
     ]
    }
   ],
   "source": [
    "model = keras.models.Sequential()\n",
    "\n",
    "model.add(keras.layers.Dense(512, input_shape=(28 * 28,), activation='relu'))\n",
    "model.add(keras.layers.Dense(128, activation='relu'))\n",
    "model.add(keras.layers.Dense(128, activation='relu'))\n",
    "model.add(keras.layers.Dense(128, activation='relu'))\n",
    "model.add(keras.layers.Dense(64, activation='relu'))\n",
    "model.add(keras.layers.Dense(10, activation='softmax'))\n",
    "\n",
    "model.summary()\n"
   ]
  },
  {
   "cell_type": "code",
   "execution_count": 4,
   "id": "amended-index",
   "metadata": {},
   "outputs": [
    {
     "name": "stdout",
     "output_type": "stream",
     "text": [
      "Epoch 1/30\n",
      "938/938 [==============================] - 6s 7ms/step - loss: 1.0031 - acc: 0.7038 - val_loss: 0.3929 - val_acc: 0.8864\n",
      "Epoch 2/30\n",
      "938/938 [==============================] - 7s 7ms/step - loss: 0.2898 - acc: 0.9153 - val_loss: 0.2347 - val_acc: 0.9329\n",
      "Epoch 3/30\n",
      "938/938 [==============================] - 6s 6ms/step - loss: 0.2136 - acc: 0.9376 - val_loss: 0.1911 - val_acc: 0.9450\n",
      "Epoch 4/30\n",
      "938/938 [==============================] - 7s 7ms/step - loss: 0.1720 - acc: 0.9498 - val_loss: 0.1603 - val_acc: 0.9522\n",
      "Epoch 5/30\n",
      "938/938 [==============================] - 6s 6ms/step - loss: 0.1445 - acc: 0.9580 - val_loss: 0.1525 - val_acc: 0.9521\n",
      "Epoch 6/30\n",
      "938/938 [==============================] - 5s 6ms/step - loss: 0.1221 - acc: 0.9653 - val_loss: 0.1315 - val_acc: 0.9606\n",
      "Epoch 7/30\n",
      "938/938 [==============================] - 6s 6ms/step - loss: 0.1079 - acc: 0.9682 - val_loss: 0.1117 - val_acc: 0.9659\n",
      "Epoch 8/30\n",
      "938/938 [==============================] - 6s 6ms/step - loss: 0.0954 - acc: 0.9726 - val_loss: 0.1047 - val_acc: 0.9674\n",
      "Epoch 9/30\n",
      "938/938 [==============================] - 6s 7ms/step - loss: 0.0839 - acc: 0.9761 - val_loss: 0.1047 - val_acc: 0.9678\n",
      "Epoch 10/30\n",
      "938/938 [==============================] - 5s 5ms/step - loss: 0.0754 - acc: 0.9783 - val_loss: 0.0947 - val_acc: 0.9710\n",
      "Epoch 11/30\n",
      "938/938 [==============================] - 5s 5ms/step - loss: 0.0679 - acc: 0.9800 - val_loss: 0.0918 - val_acc: 0.9715\n",
      "Epoch 12/30\n",
      "938/938 [==============================] - 5s 5ms/step - loss: 0.0606 - acc: 0.9821 - val_loss: 0.0894 - val_acc: 0.9718\n",
      "Epoch 13/30\n",
      "938/938 [==============================] - 5s 5ms/step - loss: 0.0542 - acc: 0.9844 - val_loss: 0.0922 - val_acc: 0.9711\n",
      "Epoch 14/30\n",
      "938/938 [==============================] - 5s 5ms/step - loss: 0.0491 - acc: 0.9858 - val_loss: 0.0866 - val_acc: 0.9731\n",
      "Epoch 15/30\n",
      "938/938 [==============================] - 5s 5ms/step - loss: 0.0439 - acc: 0.9877 - val_loss: 0.0911 - val_acc: 0.9732\n",
      "Epoch 16/30\n",
      "938/938 [==============================] - 5s 5ms/step - loss: 0.0389 - acc: 0.9893 - val_loss: 0.0813 - val_acc: 0.9740\n",
      "Epoch 17/30\n",
      "938/938 [==============================] - 5s 5ms/step - loss: 0.0351 - acc: 0.9903 - val_loss: 0.0881 - val_acc: 0.9719\n",
      "Epoch 18/30\n",
      "938/938 [==============================] - 5s 5ms/step - loss: 0.0311 - acc: 0.9912 - val_loss: 0.0823 - val_acc: 0.9746\n",
      "Epoch 19/30\n",
      "938/938 [==============================] - 5s 5ms/step - loss: 0.0276 - acc: 0.9929 - val_loss: 0.0820 - val_acc: 0.9749\n",
      "Epoch 20/30\n",
      "938/938 [==============================] - 5s 5ms/step - loss: 0.0243 - acc: 0.9938 - val_loss: 0.0804 - val_acc: 0.9755\n",
      "Epoch 21/30\n",
      "938/938 [==============================] - 5s 5ms/step - loss: 0.0214 - acc: 0.9948 - val_loss: 0.0785 - val_acc: 0.9755\n",
      "Epoch 22/30\n",
      "938/938 [==============================] - 5s 5ms/step - loss: 0.0191 - acc: 0.9955 - val_loss: 0.0900 - val_acc: 0.9728\n",
      "Epoch 23/30\n",
      "938/938 [==============================] - 5s 5ms/step - loss: 0.0171 - acc: 0.9959 - val_loss: 0.0891 - val_acc: 0.9739\n",
      "Epoch 24/30\n",
      "938/938 [==============================] - 5s 5ms/step - loss: 0.0142 - acc: 0.9970 - val_loss: 0.0828 - val_acc: 0.9760\n",
      "Epoch 25/30\n",
      "938/938 [==============================] - 5s 5ms/step - loss: 0.0130 - acc: 0.9971 - val_loss: 0.0819 - val_acc: 0.9768\n",
      "Epoch 26/30\n",
      "938/938 [==============================] - 5s 5ms/step - loss: 0.0110 - acc: 0.9979 - val_loss: 0.0877 - val_acc: 0.9747\n",
      "Epoch 27/30\n",
      "938/938 [==============================] - 5s 5ms/step - loss: 0.0097 - acc: 0.9983 - val_loss: 0.0846 - val_acc: 0.9763\n",
      "Epoch 28/30\n",
      "938/938 [==============================] - 5s 5ms/step - loss: 0.0083 - acc: 0.9986 - val_loss: 0.0840 - val_acc: 0.9770\n",
      "Epoch 29/30\n",
      "938/938 [==============================] - 5s 5ms/step - loss: 0.0074 - acc: 0.9989 - val_loss: 0.0864 - val_acc: 0.9767\n",
      "Epoch 30/30\n",
      "938/938 [==============================] - 6s 6ms/step - loss: 0.0063 - acc: 0.9991 - val_loss: 0.0857 - val_acc: 0.9775\n"
     ]
    }
   ],
   "source": [
    "model.compile(optimizer='sgd', loss='categorical_crossentropy', metrics=['acc'])\n",
    "\n",
    "hist = model.fit(x_train, y_train_cat, epochs=30, batch_size=64, validation_data=(x_val,y_val_cat))"
   ]
  },
  {
   "cell_type": "code",
   "execution_count": 5,
   "id": "painted-yellow",
   "metadata": {},
   "outputs": [
    {
     "name": "stdout",
     "output_type": "stream",
     "text": [
      "Training acc 0.9991499781608582 Validation acc 0.9775000214576721\n"
     ]
    },
    {
     "data": {
      "image/png": "[encoded data removed]",
      "text/plain": [
       "<Figure size 432x288 with 1 Axes>"
      ]
     },
     "metadata": {
      "needs_background": "light"
     },
     "output_type": "display_data"
    }
   ],
   "source": [
    "acc = hist.history['acc']\n",
    "val_acc = hist.history['val_acc']\n",
    "loss = hist.history['loss']\n",
    "val_loss = hist.history['val_loss']\n",
    "\n",
    "print('Training acc', acc[-1], 'Validation acc', val_acc[-1])\n",
    "\n",
    "plt.plot(acc, label='Training acc')\n",
    "plt.plot(val_acc, label='Validation acc')\n",
    "plt.title('Training and validation accuracy')\n",
    "plt.legend()\n",
    "plt.show()"
   ]
  },
  {
   "cell_type": "markdown",
   "id": "amended-establishment",
   "metadata": {},
   "source": [
    "## Model 2 - batch normalization"
   ]
  },
  {
   "cell_type": "code",
   "execution_count": 6,
   "id": "apart-night",
   "metadata": {},
   "outputs": [
    {
     "name": "stdout",
     "output_type": "stream",
     "text": [
      "Model: \"sequential_1\"\n",
      "_________________________________________________________________\n",
      "Layer (type)                 Output Shape              Param #   \n",
      "=================================================================\n",
      "dense_6 (Dense)              (None, 512)               401920    \n",
      "_________________________________________________________________\n",
      "batch_normalization (BatchNo (None, 512)               2048      \n",
      "_________________________________________________________________\n",
      "dense_7 (Dense)              (None, 128)               65664     \n",
      "_________________________________________________________________\n",
      "batch_normalization_1 (Batch (None, 128)               512       \n",
      "_________________________________________________________________\n",
      "dense_8 (Dense)              (None, 128)               16512     \n",
      "_________________________________________________________________\n",
      "batch_normalization_2 (Batch (None, 128)               512       \n",
      "_________________________________________________________________\n",
      "dense_9 (Dense)              (None, 128)               16512     \n",
      "_________________________________________________________________\n",
      "batch_normalization_3 (Batch (None, 128)               512       \n",
      "_________________________________________________________________\n",
      "dense_10 (Dense)             (None, 64)                8256      \n",
      "_________________________________________________________________\n",
      "batch_normalization_4 (Batch (None, 64)                256       \n",
      "_________________________________________________________________\n",
      "dense_11 (Dense)             (None, 10)                650       \n",
      "=================================================================\n",
      "Total params: 513,354\n",
      "Trainable params: 511,434\n",
      "Non-trainable params: 1,920\n",
      "_________________________________________________________________\n"
     ]
    }
   ],
   "source": [
    "model2 = keras.models.Sequential()\n",
    "\n",
    "model2.add(keras.layers.Dense(512, input_shape=(28 * 28,), activation='relu'))\n",
    "model2.add(BatchNormalization())\n",
    "model2.add(keras.layers.Dense(128, activation='relu'))\n",
    "model2.add(BatchNormalization())\n",
    "model2.add(keras.layers.Dense(128, activation='relu'))\n",
    "model2.add(BatchNormalization())\n",
    "model2.add(keras.layers.Dense(128, activation='relu'))\n",
    "model2.add(BatchNormalization())\n",
    "model2.add(keras.layers.Dense(64, activation='relu'))\n",
    "model2.add(BatchNormalization())\n",
    "model2.add(keras.layers.Dense(10, activation='softmax'))\n",
    "\n",
    "model2.summary()"
   ]
  },
  {
   "cell_type": "code",
   "execution_count": 7,
   "id": "south-guyana",
   "metadata": {},
   "outputs": [
    {
     "name": "stdout",
     "output_type": "stream",
     "text": [
      "Epoch 1/30\n",
      "938/938 [==============================] - 7s 8ms/step - loss: 0.4007 - acc: 0.8835 - val_loss: 0.1770 - val_acc: 0.9474\n",
      "Epoch 2/30\n",
      "938/938 [==============================] - 7s 7ms/step - loss: 0.1689 - acc: 0.9514 - val_loss: 0.1271 - val_acc: 0.9607\n",
      "Epoch 3/30\n",
      "938/938 [==============================] - 6s 7ms/step - loss: 0.1210 - acc: 0.9646 - val_loss: 0.1071 - val_acc: 0.9678\n",
      "Epoch 4/30\n",
      "938/938 [==============================] - 6s 6ms/step - loss: 0.0936 - acc: 0.9727 - val_loss: 0.0975 - val_acc: 0.9709\n",
      "Epoch 5/30\n",
      "938/938 [==============================] - 6s 6ms/step - loss: 0.0745 - acc: 0.9787 - val_loss: 0.0923 - val_acc: 0.9727\n",
      "Epoch 6/30\n",
      "938/938 [==============================] - 6s 6ms/step - loss: 0.0597 - acc: 0.9833 - val_loss: 0.0900 - val_acc: 0.9719\n",
      "Epoch 7/30\n",
      "938/938 [==============================] - 6s 7ms/step - loss: 0.0514 - acc: 0.9854 - val_loss: 0.0857 - val_acc: 0.9736\n",
      "Epoch 8/30\n",
      "938/938 [==============================] - 6s 6ms/step - loss: 0.0426 - acc: 0.9877 - val_loss: 0.0831 - val_acc: 0.9746\n",
      "Epoch 9/30\n",
      "938/938 [==============================] - 6s 6ms/step - loss: 0.0365 - acc: 0.9898 - val_loss: 0.0799 - val_acc: 0.9762\n",
      "Epoch 10/30\n",
      "938/938 [==============================] - 6s 6ms/step - loss: 0.0316 - acc: 0.9910 - val_loss: 0.0814 - val_acc: 0.9751\n",
      "Epoch 11/30\n",
      "938/938 [==============================] - 6s 6ms/step - loss: 0.0277 - acc: 0.9924 - val_loss: 0.0815 - val_acc: 0.9752\n",
      "Epoch 12/30\n",
      "938/938 [==============================] - 6s 6ms/step - loss: 0.0243 - acc: 0.9932 - val_loss: 0.0829 - val_acc: 0.9741\n",
      "Epoch 13/30\n",
      "938/938 [==============================] - 6s 6ms/step - loss: 0.0214 - acc: 0.9947 - val_loss: 0.0815 - val_acc: 0.9760\n",
      "Epoch 14/30\n",
      "938/938 [==============================] - 6s 6ms/step - loss: 0.0192 - acc: 0.9950 - val_loss: 0.0820 - val_acc: 0.9753\n",
      "Epoch 15/30\n",
      "938/938 [==============================] - 6s 6ms/step - loss: 0.0190 - acc: 0.9945 - val_loss: 0.0833 - val_acc: 0.9758\n",
      "Epoch 16/30\n",
      "938/938 [==============================] - 6s 6ms/step - loss: 0.0163 - acc: 0.9961 - val_loss: 0.0797 - val_acc: 0.9761\n",
      "Epoch 17/30\n",
      "938/938 [==============================] - 7s 7ms/step - loss: 0.0139 - acc: 0.9964 - val_loss: 0.0806 - val_acc: 0.9769\n",
      "Epoch 18/30\n",
      "938/938 [==============================] - 8s 9ms/step - loss: 0.0128 - acc: 0.9969 - val_loss: 0.0773 - val_acc: 0.9774\n",
      "Epoch 19/30\n",
      "938/938 [==============================] - 8s 8ms/step - loss: 0.0127 - acc: 0.9969 - val_loss: 0.0798 - val_acc: 0.9768\n",
      "Epoch 20/30\n",
      "938/938 [==============================] - 7s 7ms/step - loss: 0.0108 - acc: 0.9977 - val_loss: 0.0808 - val_acc: 0.9768\n",
      "Epoch 21/30\n",
      "938/938 [==============================] - 6s 6ms/step - loss: 0.0106 - acc: 0.9975 - val_loss: 0.0815 - val_acc: 0.9774\n",
      "Epoch 22/30\n",
      "938/938 [==============================] - 6s 6ms/step - loss: 0.0107 - acc: 0.9972 - val_loss: 0.0791 - val_acc: 0.9778\n",
      "Epoch 23/30\n",
      "938/938 [==============================] - 6s 6ms/step - loss: 0.0090 - acc: 0.9979 - val_loss: 0.0783 - val_acc: 0.9775\n",
      "Epoch 24/30\n",
      "938/938 [==============================] - 6s 6ms/step - loss: 0.0085 - acc: 0.9979 - val_loss: 0.0820 - val_acc: 0.9763\n",
      "Epoch 25/30\n",
      "938/938 [==============================] - 6s 7ms/step - loss: 0.0078 - acc: 0.9984 - val_loss: 0.0848 - val_acc: 0.9766\n",
      "Epoch 26/30\n",
      "938/938 [==============================] - 6s 7ms/step - loss: 0.0077 - acc: 0.9984 - val_loss: 0.0815 - val_acc: 0.9778\n",
      "Epoch 27/30\n",
      "938/938 [==============================] - 6s 6ms/step - loss: 0.0070 - acc: 0.9985 - val_loss: 0.0829 - val_acc: 0.9777\n",
      "Epoch 28/30\n",
      "938/938 [==============================] - 6s 7ms/step - loss: 0.0071 - acc: 0.9984 - val_loss: 0.0811 - val_acc: 0.9775\n",
      "Epoch 29/30\n",
      "938/938 [==============================] - 6s 7ms/step - loss: 0.0069 - acc: 0.9985 - val_loss: 0.0827 - val_acc: 0.9775\n",
      "Epoch 30/30\n",
      "938/938 [==============================] - 7s 8ms/step - loss: 0.0064 - acc: 0.9986 - val_loss: 0.0817 - val_acc: 0.9782\n"
     ]
    }
   ],
   "source": [
    "model2.compile(optimizer='sgd', loss='categorical_crossentropy', metrics=['acc'])\n",
    "\n",
    "hist2 = model2.fit(x_train, y_train_cat, epochs=30, batch_size=64, validation_data=(x_val,y_val_cat))"
   ]
  },
  {
   "cell_type": "code",
   "execution_count": 8,
   "id": "direct-bhutan",
   "metadata": {},
   "outputs": [
    {
     "name": "stdout",
     "output_type": "stream",
     "text": [
      "Training acc 0.9986333250999451 Validation acc 0.9782000184059143\n"
     ]
    },
    {
     "data": {
      "image/png": "[encoded data removed]",
      "text/plain": [
       "<Figure size 432x288 with 1 Axes>"
      ]
     },
     "metadata": {
      "needs_background": "light"
     },
     "output_type": "display_data"
    }
   ],
   "source": [
    "acc = hist2.history['acc']\n",
    "val_acc = hist2.history['val_acc']\n",
    "loss = hist2.history['loss']\n",
    "val_loss = hist2.history['val_loss']\n",
    "\n",
    "print('Training acc', acc[-1], 'Validation acc', val_acc[-1])\n",
    "\n",
    "plt.plot(acc, label='Training acc')\n",
    "plt.plot(val_acc, label='Validation acc')\n",
    "plt.title('Training and validation accuracy')\n",
    "plt.legend()\n",
    "plt.show()"
   ]
  },
  {
   "cell_type": "markdown",
   "id": "nutritional-canberra",
   "metadata": {},
   "source": [
    "## Model 1 and 2 comparison\n",
    "\n",
    "Both models are overfitted. Batch normalization has not really effect for the this model. Accuracies are almost the same."
   ]
  },
  {
   "cell_type": "markdown",
   "id": "pregnant-portrait",
   "metadata": {},
   "source": [
    "## Model 3 - regularisation  "
   ]
  },
  {
   "cell_type": "code",
   "execution_count": 9,
   "id": "corporate-reply",
   "metadata": {},
   "outputs": [
    {
     "name": "stdout",
     "output_type": "stream",
     "text": [
      "Model: \"sequential_2\"\n",
      "_________________________________________________________________\n",
      "Layer (type)                 Output Shape              Param #   \n",
      "=================================================================\n",
      "dense_12 (Dense)             (None, 512)               401920    \n",
      "_________________________________________________________________\n",
      "batch_normalization_5 (Batch (None, 512)               2048      \n",
      "_________________________________________________________________\n",
      "dense_13 (Dense)             (None, 128)               65664     \n",
      "_________________________________________________________________\n",
      "batch_normalization_6 (Batch (None, 128)               512       \n",
      "_________________________________________________________________\n",
      "dense_14 (Dense)             (None, 128)               16512     \n",
      "_________________________________________________________________\n",
      "batch_normalization_7 (Batch (None, 128)               512       \n",
      "_________________________________________________________________\n",
      "dense_15 (Dense)             (None, 128)               16512     \n",
      "_________________________________________________________________\n",
      "batch_normalization_8 (Batch (None, 128)               512       \n",
      "_________________________________________________________________\n",
      "dense_16 (Dense)             (None, 64)                8256      \n",
      "_________________________________________________________________\n",
      "batch_normalization_9 (Batch (None, 64)                256       \n",
      "_________________________________________________________________\n",
      "dense_17 (Dense)             (None, 10)                650       \n",
      "=================================================================\n",
      "Total params: 513,354\n",
      "Trainable params: 511,434\n",
      "Non-trainable params: 1,920\n",
      "_________________________________________________________________\n"
     ]
    }
   ],
   "source": [
    "from tensorflow.keras.regularizers import l2\n",
    "\n",
    "model3 = keras.models.Sequential()\n",
    "\n",
    "model3.add(keras.layers.Dense(512, input_shape=(28 * 28,), activation='relu', kernel_regularizer=keras.regularizers.l2(0.01)))\n",
    "model3.add(BatchNormalization())\n",
    "model3.add(keras.layers.Dense(128, activation='relu', kernel_regularizer=keras.regularizers.l2(0.0001)))\n",
    "model3.add(BatchNormalization())\n",
    "model3.add(keras.layers.Dense(128, activation='relu', kernel_regularizer=keras.regularizers.l2(0.0001)))\n",
    "model3.add(BatchNormalization())\n",
    "model3.add(keras.layers.Dense(128, activation='relu', kernel_regularizer=keras.regularizers.l2(0.0001)))\n",
    "model3.add(BatchNormalization())\n",
    "model3.add(keras.layers.Dense(64, activation='relu', kernel_regularizer=keras.regularizers.l2(0.0001)))\n",
    "model3.add(BatchNormalization())\n",
    "model3.add(keras.layers.Dense(10, activation='softmax'))\n",
    "\n",
    "model3.summary()"
   ]
  },
  {
   "cell_type": "code",
   "execution_count": 10,
   "id": "hired-brake",
   "metadata": {},
   "outputs": [
    {
     "name": "stdout",
     "output_type": "stream",
     "text": [
      "Epoch 1/30\n",
      "938/938 [==============================] - 10s 11ms/step - loss: 5.6291 - acc: 0.8817 - val_loss: 4.4816 - val_acc: 0.9528\n",
      "Epoch 2/30\n",
      "938/938 [==============================] - 10s 10ms/step - loss: 3.7707 - acc: 0.9539 - val_loss: 3.1107 - val_acc: 0.9656\n",
      "Epoch 3/30\n",
      "938/938 [==============================] - 10s 11ms/step - loss: 2.6193 - acc: 0.9674 - val_loss: 2.1815 - val_acc: 0.9710\n",
      "Epoch 4/30\n",
      "938/938 [==============================] - 9s 10ms/step - loss: 1.8392 - acc: 0.9738 - val_loss: 1.5532 - val_acc: 0.9725\n",
      "Epoch 5/30\n",
      "938/938 [==============================] - 9s 10ms/step - loss: 1.3063 - acc: 0.9780 - val_loss: 1.1241 - val_acc: 0.9716\n",
      "Epoch 6/30\n",
      "938/938 [==============================] - 9s 10ms/step - loss: 0.9445 - acc: 0.9801 - val_loss: 0.8575 - val_acc: 0.9647\n",
      "Epoch 7/30\n",
      "938/938 [==============================] - 9s 10ms/step - loss: 0.7001 - acc: 0.9800 - val_loss: 0.6386 - val_acc: 0.9719\n",
      "Epoch 8/30\n",
      "938/938 [==============================] - 9s 9ms/step - loss: 0.5373 - acc: 0.9801 - val_loss: 0.5066 - val_acc: 0.9704\n",
      "Epoch 9/30\n",
      "938/938 [==============================] - 10s 11ms/step - loss: 0.4236 - acc: 0.9810 - val_loss: 0.4100 - val_acc: 0.9705\n",
      "Epoch 10/30\n",
      "938/938 [==============================] - 9s 9ms/step - loss: 0.3481 - acc: 0.9806 - val_loss: 0.3449 - val_acc: 0.9745\n",
      "Epoch 11/30\n",
      "938/938 [==============================] - 9s 9ms/step - loss: 0.2942 - acc: 0.9814 - val_loss: 0.3065 - val_acc: 0.9734\n",
      "Epoch 12/30\n",
      "938/938 [==============================] - 9s 9ms/step - loss: 0.2573 - acc: 0.9810 - val_loss: 0.2864 - val_acc: 0.9682\n",
      "Epoch 13/30\n",
      "938/938 [==============================] - 9s 9ms/step - loss: 0.2294 - acc: 0.9819 - val_loss: 0.2583 - val_acc: 0.9716\n",
      "Epoch 14/30\n",
      "938/938 [==============================] - 8s 9ms/step - loss: 0.2115 - acc: 0.9827 - val_loss: 0.2285 - val_acc: 0.9769\n",
      "Epoch 15/30\n",
      "938/938 [==============================] - 8s 9ms/step - loss: 0.1973 - acc: 0.9827 - val_loss: 0.2269 - val_acc: 0.9743\n",
      "Epoch 16/30\n",
      "938/938 [==============================] - 8s 9ms/step - loss: 0.1874 - acc: 0.9832 - val_loss: 0.2195 - val_acc: 0.9735\n",
      "Epoch 17/30\n",
      "938/938 [==============================] - 8s 9ms/step - loss: 0.1806 - acc: 0.9828 - val_loss: 0.2219 - val_acc: 0.9707\n",
      "Epoch 18/30\n",
      "938/938 [==============================] - 8s 9ms/step - loss: 0.1768 - acc: 0.9837 - val_loss: 0.2106 - val_acc: 0.9739\n",
      "Epoch 19/30\n",
      "938/938 [==============================] - 8s 9ms/step - loss: 0.1688 - acc: 0.9849 - val_loss: 0.2261 - val_acc: 0.9682\n",
      "Epoch 20/30\n",
      "938/938 [==============================] - 8s 9ms/step - loss: 0.1645 - acc: 0.9851 - val_loss: 0.1994 - val_acc: 0.9758\n",
      "Epoch 21/30\n",
      "938/938 [==============================] - 8s 9ms/step - loss: 0.1669 - acc: 0.9839 - val_loss: 0.2034 - val_acc: 0.9745\n",
      "Epoch 22/30\n",
      "938/938 [==============================] - 8s 9ms/step - loss: 0.1626 - acc: 0.9851 - val_loss: 0.1992 - val_acc: 0.9738\n",
      "Epoch 23/30\n",
      "938/938 [==============================] - 8s 9ms/step - loss: 0.1572 - acc: 0.9862 - val_loss: 0.2062 - val_acc: 0.9709\n",
      "Epoch 24/30\n",
      "938/938 [==============================] - 8s 9ms/step - loss: 0.1603 - acc: 0.9848 - val_loss: 0.1983 - val_acc: 0.9740\n",
      "Epoch 25/30\n",
      "938/938 [==============================] - 9s 10ms/step - loss: 0.1572 - acc: 0.9856 - val_loss: 0.1907 - val_acc: 0.9771\n",
      "Epoch 26/30\n",
      "938/938 [==============================] - 10s 11ms/step - loss: 0.1542 - acc: 0.9861 - val_loss: 0.1953 - val_acc: 0.9759\n",
      "Epoch 27/30\n",
      "938/938 [==============================] - 10s 11ms/step - loss: 0.1537 - acc: 0.9858 - val_loss: 0.1903 - val_acc: 0.9766\n",
      "Epoch 28/30\n",
      "938/938 [==============================] - 10s 10ms/step - loss: 0.1544 - acc: 0.9853 - val_loss: 0.1844 - val_acc: 0.9770\n",
      "Epoch 29/30\n",
      "938/938 [==============================] - 9s 9ms/step - loss: 0.1546 - acc: 0.9854 - val_loss: 0.2239 - val_acc: 0.9658\n",
      "Epoch 30/30\n",
      "938/938 [==============================] - 9s 9ms/step - loss: 0.1523 - acc: 0.9856 - val_loss: 0.2016 - val_acc: 0.9719\n"
     ]
    }
   ],
   "source": [
    "model3.compile(optimizer='sgd', loss='categorical_crossentropy', metrics=['acc'])\n",
    "\n",
    "hist3 = model3.fit(x_train, y_train_cat, epochs=30, batch_size=64, validation_data=(x_val,y_val_cat))"
   ]
  },
  {
   "cell_type": "code",
   "execution_count": 11,
   "id": "variable-sensitivity",
   "metadata": {},
   "outputs": [
    {
     "name": "stdout",
     "output_type": "stream",
     "text": [
      "Training acc 0.9856333136558533 Validation acc 0.9718999862670898\n"
     ]
    },
    {
     "data": {
      "image/png": "[encoded data removed]",
      "text/plain": [
       "<Figure size 432x288 with 1 Axes>"
      ]
     },
     "metadata": {
      "needs_background": "light"
     },
     "output_type": "display_data"
    }
   ],
   "source": [
    "acc = hist3.history['acc']\n",
    "val_acc = hist3.history['val_acc']\n",
    "loss = hist3.history['loss']\n",
    "val_loss = hist3.history['val_loss']\n",
    "\n",
    "print('Training acc', acc[-1], 'Validation acc', val_acc[-1])\n",
    "\n",
    "plt.plot(acc, label='Training acc')\n",
    "plt.plot(val_acc, label='Validation acc')\n",
    "plt.title('Training and validation accuracy')\n",
    "plt.legend()\n",
    "plt.show()"
   ]
  },
  {
   "cell_type": "markdown",
   "id": "demanding-museum",
   "metadata": {},
   "source": [
    "## Model 4 - dropout"
   ]
  },
  {
   "cell_type": "code",
   "execution_count": 12,
   "id": "returning-terrain",
   "metadata": {},
   "outputs": [
    {
     "name": "stdout",
     "output_type": "stream",
     "text": [
      "Model: \"sequential_3\"\n",
      "_________________________________________________________________\n",
      "Layer (type)                 Output Shape              Param #   \n",
      "=================================================================\n",
      "dense_18 (Dense)             (None, 512)               401920    \n",
      "_________________________________________________________________\n",
      "batch_normalization_10 (Batc (None, 512)               2048      \n",
      "_________________________________________________________________\n",
      "dropout (Dropout)            (None, 512)               0         \n",
      "_________________________________________________________________\n",
      "dense_19 (Dense)             (None, 128)               65664     \n",
      "_________________________________________________________________\n",
      "dropout_1 (Dropout)          (None, 128)               0         \n",
      "_________________________________________________________________\n",
      "batch_normalization_11 (Batc (None, 128)               512       \n",
      "_________________________________________________________________\n",
      "dense_20 (Dense)             (None, 128)               16512     \n",
      "_________________________________________________________________\n",
      "dropout_2 (Dropout)          (None, 128)               0         \n",
      "_________________________________________________________________\n",
      "batch_normalization_12 (Batc (None, 128)               512       \n",
      "_________________________________________________________________\n",
      "dense_21 (Dense)             (None, 128)               16512     \n",
      "_________________________________________________________________\n",
      "batch_normalization_13 (Batc (None, 128)               512       \n",
      "_________________________________________________________________\n",
      "dense_22 (Dense)             (None, 64)                8256      \n",
      "_________________________________________________________________\n",
      "batch_normalization_14 (Batc (None, 64)                256       \n",
      "_________________________________________________________________\n",
      "dense_23 (Dense)             (None, 10)                650       \n",
      "=================================================================\n",
      "Total params: 513,354\n",
      "Trainable params: 511,434\n",
      "Non-trainable params: 1,920\n",
      "_________________________________________________________________\n"
     ]
    }
   ],
   "source": [
    "model4 = keras.models.Sequential()\n",
    "\n",
    "model4.add(keras.layers.Dense(512, input_shape=(28 * 28,), activation='relu', kernel_regularizer=keras.regularizers.l2(0.0001)))\n",
    "model4.add(BatchNormalization())\n",
    "model4.add(keras.layers.Dropout(0.2))\n",
    "model4.add(keras.layers.Dense(128, activation='relu', kernel_regularizer=keras.regularizers.l2(0.0001)))\n",
    "model4.add(keras.layers.Dropout(0.2))\n",
    "model4.add(BatchNormalization())\n",
    "model4.add(keras.layers.Dense(128, activation='relu', kernel_regularizer=keras.regularizers.l2(0.0001)))\n",
    "model4.add(keras.layers.Dropout(0.2))\n",
    "model4.add(BatchNormalization())\n",
    "model4.add(keras.layers.Dense(128, activation='relu', kernel_regularizer=keras.regularizers.l2(0.0001)))\n",
    "model4.add(BatchNormalization())\n",
    "model4.add(keras.layers.Dense(64, activation='relu', kernel_regularizer=keras.regularizers.l2(0.0001)))\n",
    "model4.add(BatchNormalization())\n",
    "model4.add(keras.layers.Dense(10, activation='softmax'))\n",
    "\n",
    "model4.summary()"
   ]
  },
  {
   "cell_type": "code",
   "execution_count": 13,
   "id": "duplicate-bargain",
   "metadata": {},
   "outputs": [
    {
     "name": "stdout",
     "output_type": "stream",
     "text": [
      "Epoch 1/30\n",
      "938/938 [==============================] - 10s 11ms/step - loss: 0.7882 - acc: 0.7938 - val_loss: 0.3217 - val_acc: 0.9374\n",
      "Epoch 2/30\n",
      "938/938 [==============================] - 10s 11ms/step - loss: 0.4403 - acc: 0.9028 - val_loss: 0.2672 - val_acc: 0.9536\n",
      "Epoch 3/30\n",
      "938/938 [==============================] - 11s 12ms/step - loss: 0.3772 - acc: 0.9218 - val_loss: 0.2453 - val_acc: 0.9603\n",
      "Epoch 4/30\n",
      "938/938 [==============================] - 10s 11ms/step - loss: 0.3397 - acc: 0.9333 - val_loss: 0.2293 - val_acc: 0.9650\n",
      "Epoch 5/30\n",
      "938/938 [==============================] - 11s 12ms/step - loss: 0.3134 - acc: 0.9405 - val_loss: 0.2203 - val_acc: 0.9680\n",
      "Epoch 6/30\n",
      "938/938 [==============================] - 11s 11ms/step - loss: 0.2924 - acc: 0.9463 - val_loss: 0.2072 - val_acc: 0.9712\n",
      "Epoch 7/30\n",
      "938/938 [==============================] - 9s 10ms/step - loss: 0.2782 - acc: 0.9498 - val_loss: 0.2024 - val_acc: 0.9729\n",
      "Epoch 8/30\n",
      "938/938 [==============================] - 9s 10ms/step - loss: 0.2622 - acc: 0.9553 - val_loss: 0.2017 - val_acc: 0.9730\n",
      "Epoch 9/30\n",
      "938/938 [==============================] - 9s 10ms/step - loss: 0.2525 - acc: 0.9582 - val_loss: 0.1945 - val_acc: 0.9751\n",
      "Epoch 10/30\n",
      "938/938 [==============================] - 9s 10ms/step - loss: 0.2439 - acc: 0.9603 - val_loss: 0.1912 - val_acc: 0.9766\n",
      "Epoch 11/30\n",
      "938/938 [==============================] - 10s 10ms/step - loss: 0.2307 - acc: 0.9638 - val_loss: 0.1878 - val_acc: 0.9774\n",
      "Epoch 12/30\n",
      "938/938 [==============================] - 9s 10ms/step - loss: 0.2261 - acc: 0.9662 - val_loss: 0.1857 - val_acc: 0.9780\n",
      "Epoch 13/30\n",
      "938/938 [==============================] - 9s 10ms/step - loss: 0.2198 - acc: 0.9664 - val_loss: 0.1831 - val_acc: 0.9789\n",
      "Epoch 14/30\n",
      "938/938 [==============================] - 9s 10ms/step - loss: 0.2130 - acc: 0.9687 - val_loss: 0.1814 - val_acc: 0.9783\n",
      "Epoch 15/30\n",
      "938/938 [==============================] - 9s 10ms/step - loss: 0.2071 - acc: 0.9697 - val_loss: 0.1789 - val_acc: 0.9790\n",
      "Epoch 16/30\n",
      "938/938 [==============================] - 9s 10ms/step - loss: 0.2027 - acc: 0.9721 - val_loss: 0.1780 - val_acc: 0.9796\n",
      "Epoch 17/30\n",
      "938/938 [==============================] - 9s 10ms/step - loss: 0.1974 - acc: 0.9733 - val_loss: 0.1761 - val_acc: 0.9798\n",
      "Epoch 18/30\n",
      "938/938 [==============================] - 9s 10ms/step - loss: 0.1947 - acc: 0.9737 - val_loss: 0.1754 - val_acc: 0.9808\n",
      "Epoch 19/30\n",
      "938/938 [==============================] - 9s 10ms/step - loss: 0.1898 - acc: 0.9756 - val_loss: 0.1745 - val_acc: 0.9806\n",
      "Epoch 20/30\n",
      "938/938 [==============================] - 9s 10ms/step - loss: 0.1870 - acc: 0.9759 - val_loss: 0.1752 - val_acc: 0.9813\n",
      "Epoch 21/30\n",
      "938/938 [==============================] - 9s 10ms/step - loss: 0.1856 - acc: 0.9765 - val_loss: 0.1749 - val_acc: 0.9809\n",
      "Epoch 22/30\n",
      "938/938 [==============================] - 9s 10ms/step - loss: 0.1816 - acc: 0.9778 - val_loss: 0.1744 - val_acc: 0.9804\n",
      "Epoch 23/30\n",
      "938/938 [==============================] - 9s 10ms/step - loss: 0.1783 - acc: 0.9781 - val_loss: 0.1716 - val_acc: 0.9815\n",
      "Epoch 24/30\n",
      "938/938 [==============================] - 9s 10ms/step - loss: 0.1724 - acc: 0.9796 - val_loss: 0.1700 - val_acc: 0.9824\n",
      "Epoch 25/30\n",
      "938/938 [==============================] - 9s 10ms/step - loss: 0.1705 - acc: 0.9801 - val_loss: 0.1708 - val_acc: 0.9806\n",
      "Epoch 26/30\n",
      "938/938 [==============================] - 9s 10ms/step - loss: 0.1671 - acc: 0.9813 - val_loss: 0.1720 - val_acc: 0.9817\n",
      "Epoch 27/30\n",
      "938/938 [==============================] - 9s 10ms/step - loss: 0.1661 - acc: 0.9815 - val_loss: 0.1697 - val_acc: 0.9820\n",
      "Epoch 28/30\n",
      "938/938 [==============================] - 9s 10ms/step - loss: 0.1650 - acc: 0.9819 - val_loss: 0.1692 - val_acc: 0.9831\n",
      "Epoch 29/30\n",
      "938/938 [==============================] - 9s 10ms/step - loss: 0.1632 - acc: 0.9821 - val_loss: 0.1683 - val_acc: 0.9826\n",
      "Epoch 30/30\n",
      "938/938 [==============================] - 10s 11ms/step - loss: 0.1621 - acc: 0.9825 - val_loss: 0.1683 - val_acc: 0.9824\n"
     ]
    }
   ],
   "source": [
    "model4.compile(optimizer='sgd', loss='categorical_crossentropy', metrics=['acc'])\n",
    "\n",
    "hist4 = model4.fit(x_train, y_train_cat, epochs=30, batch_size=64, validation_data=(x_val,y_val_cat))"
   ]
  },
  {
   "cell_type": "code",
   "execution_count": 14,
   "id": "fallen-boxing",
   "metadata": {},
   "outputs": [
    {
     "name": "stdout",
     "output_type": "stream",
     "text": [
      "Training acc 0.982450008392334 Validation acc 0.9824000000953674\n"
     ]
    },
    {
     "data": {
      "image/png": "[encoded data removed]",
      "text/plain": [
       "<Figure size 432x288 with 1 Axes>"
      ]
     },
     "metadata": {
      "needs_background": "light"
     },
     "output_type": "display_data"
    }
   ],
   "source": [
    "acc = hist4.history['acc']\n",
    "val_acc = hist4.history['val_acc']\n",
    "loss = hist4.history['loss']\n",
    "val_loss = hist4.history['val_loss']\n",
    "\n",
    "print('Training acc', acc[-1], 'Validation acc', val_acc[-1])\n",
    "\n",
    "plt.plot(acc, label='Training acc')\n",
    "plt.plot(val_acc, label='Validation acc')\n",
    "plt.title('Training and validation accuracy')\n",
    "plt.legend()\n",
    "plt.show()"
   ]
  },
  {
   "cell_type": "markdown",
   "id": "exempt-statement",
   "metadata": {},
   "source": [
    "## Model 3 and 4 comparison\n",
    "\n",
    "Regularization has not really effect on overfitting but dropout layers are effective. With dropout layers the model achieves best accuracy with validation set (0.98). That is very good result."
   ]
  }
 ],
 "metadata": {
  "kernelspec": {
   "display_name": "Python 3",
   "language": "python",
   "name": "python3"
  },
  "language_info": {
   "codemirror_mode": {
    "name": "ipython",
    "version": 3
   },
   "file_extension": ".py",
   "mimetype": "text/x-python",
   "name": "python",
   "nbconvert_exporter": "python",
   "pygments_lexer": "ipython3",
   "version": "3.8.5"
  }
 },
 "nbformat": 4,
 "nbformat_minor": 5
}
